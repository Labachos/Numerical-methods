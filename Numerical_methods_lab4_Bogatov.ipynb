{
 "cells": [
  {
   "cell_type": "markdown",
   "metadata": {},
   "source": [
    "## Богатов Антон Юрьевич\n",
    "### Лабораторная работа 4\n",
    "### Вариант 4\n",
    "### Задания 4.1.4, 4.2, 4.4.1 и 4.8.1"
   ]
  },
  {
   "cell_type": "markdown",
   "metadata": {},
   "source": [
    "### Задача 4.1.4\n",
    "##### Условие:\n",
    "\n",
    "Дана система уравнений $Ax=b$. Найти решение системы с помощью метода Гаусса. Выполнить 10 итераций по методу Зейделя. Принимая решение, полученное с помощью метода Гаусса за точное, найти величину абсолютной погрешности итерационного решения.\n",
    "\n",
    "##### Порядок решения задачи:\n",
    "1. Задать матрицу системы $A$ и вектор правой части $b$.  Используя встроенную результаты выполнения лабораторной работы 3, либо стандартные библиотечные функции (функцию numpy.linalg.solve), найти решение системы $Ax=b$ с помощью метода Гаусса.\n",
    "2. Преобразовать систему $Ax=b$ к виду $x=Bx+c$, удобному для итераций. Проверить выполнение достаточного условия сходимости итерационных методов $||B||_{\\infty}<1$.\n",
    "3. Программно реализовать метод Зейделя решения системы линейных уравнений. Предусмотреть два критерия остановки итерационного процесса: а) по максимальному числу итераций и б) по достижению заданной точности $ε$.\n",
    "4. Выполнить 10 итераций по методу Зейделя; взять любое начальное приближение. Принимая решение, полученное в п. 1 за точное, найти величину абсолютной погрешности итерационного решения (использовать норму $||.||_{\\infty}$).\n",
    "5. Взять другое начальное приближение. Объяснить полученные результаты."
   ]
  },
  {
   "cell_type": "code",
   "execution_count": 1,
   "metadata": {},
   "outputs": [],
   "source": [
    "import numpy as np"
   ]
  },
  {
   "cell_type": "code",
   "execution_count": 12,
   "metadata": {},
   "outputs": [
    {
     "data": {
      "text/plain": [
       "(matrix([[ 39.6,   0. ,  17.5,   9.9,  12. ],\n",
       "         [ 79.2, 120. ,   0. ,  39.6,   0. ],\n",
       "         [ 19.8, -21. ,  46. ,   0. ,   5. ],\n",
       "         [ 49.5,  19. ,  19. ,  89.1,   0. ],\n",
       "         [  9.9,  25. ,  10. , -39.6,  85. ]]),\n",
       " array([ 38.5,  38.8,  93.7,  43. , -49.7]))"
      ]
     },
     "execution_count": 12,
     "metadata": {},
     "output_type": "execute_result"
    }
   ],
   "source": [
    "# Задание А и b\n",
    "A = np.matrix([[39.6, 0, 17.5, 9.9, 12], \n",
    "               [79.2, 120, 0, 39.6, 0], \n",
    "               [19.8, -21, 46, 0, 5], \n",
    "               [49.5, 19, 19, 89.1, 0], \n",
    "               [9.9, 25, 10, -39.6, 85]])\n",
    "b = np.array([38.5, 38.8, 93.7, 43, -49.7])\n",
    "A, b"
   ]
  },
  {
   "cell_type": "code",
   "execution_count": 35,
   "metadata": {},
   "outputs": [
    {
     "data": {
      "text/plain": [
       "array([ 0.44444444,  0.1       ,  2.        , -0.21212121, -1.        ])"
      ]
     },
     "execution_count": 35,
     "metadata": {},
     "output_type": "execute_result"
    }
   ],
   "source": [
    "# Решение:\n",
    "x = np.linalg.solve(A, b)\n",
    "x"
   ]
  },
  {
   "cell_type": "code",
   "execution_count": 14,
   "metadata": {},
   "outputs": [
    {
     "data": {
      "text/plain": [
       "True"
      ]
     },
     "execution_count": 14,
     "metadata": {},
     "output_type": "execute_result"
    }
   ],
   "source": [
    "# Проверка:\n",
    "np.allclose(np.dot(A, x), b)"
   ]
  },
  {
   "cell_type": "code",
   "execution_count": 16,
   "metadata": {},
   "outputs": [
    {
     "data": {
      "text/plain": [
       "(array([[ 0.        , -0.        , -0.44191919, -0.25      , -0.3030303 ],\n",
       "        [-0.66      ,  0.        , -0.        , -0.33      , -0.        ],\n",
       "        [-0.43043478,  0.45652174,  0.        , -0.        , -0.10869565],\n",
       "        [-0.55555556, -0.21324355, -0.21324355,  0.        , -0.        ],\n",
       "        [-0.11647059, -0.29411765, -0.11764706,  0.46588235,  0.        ]]),\n",
       " array([ 0.97222222,  0.32333333,  2.03695652,  0.48260382, -0.58470588]))"
      ]
     },
     "execution_count": 16,
     "metadata": {},
     "output_type": "execute_result"
    }
   ],
   "source": [
    "# Преобразование к виду, удобному для итераций:\n",
    "B = np.zeros(A.shape)\n",
    "c = np.zeros(b.shape)\n",
    "for i in range(A.shape[0]):\n",
    "    c[i] = b[i] / A[i, i]\n",
    "    for j in range(A.shape[1]):\n",
    "        if i != j:\n",
    "            B[i, j] = -A[i, j] / A[i, i]\n",
    "B, c"
   ]
  },
  {
   "cell_type": "code",
   "execution_count": 18,
   "metadata": {},
   "outputs": [
    {
     "name": "stdout",
     "output_type": "stream",
     "text": [
      "Достаточное условие выполнено\n"
     ]
    }
   ],
   "source": [
    "# Проверка выполнения достаточного условия сходимости итерационных методов:\n",
    "if np.linalg.norm(B, ord=np.inf) < 1:\n",
    "    print('Достаточное условие выполнено')\n",
    "else:\n",
    "    print('Достаточное условие не выполнено')"
   ]
  },
  {
   "cell_type": "code",
   "execution_count": 83,
   "metadata": {},
   "outputs": [],
   "source": [
    "def zeid(B, c, x0, eps, iter_num):\n",
    "    sol = np.zeros(c.shape)\n",
    "    B1 = np.tril(B, k = 0)\n",
    "    B2 = np.triu(B, k = 0)\n",
    "    eps = (1 - np.linalg.norm(B, ord=np.inf)) / np.linalg.norm(B2, ord=np.inf) * eps\n",
    "    err = 2 * eps\n",
    "    n = 0\n",
    "    while n < iter_num and err > eps:\n",
    "        for i in range(B.shape[0]):\n",
    "            sol[i] = np.dot(x0, B2[i]) + np.dot(sol, B1[i]) + c[i]\n",
    "        err = np.linalg.norm(sol - x0, ord=np.inf)\n",
    "        x0 = sol.copy()\n",
    "        n += 1\n",
    "    return sol, n"
   ]
  },
  {
   "cell_type": "code",
   "execution_count": 85,
   "metadata": {},
   "outputs": [
    {
     "name": "stdout",
     "output_type": "stream",
     "text": [
      "Решение методом Зейделя: [ 0.44453599  0.09996952  1.99995005 -0.21215492 -1.00001153]\n",
      "Абсолютная погрешность: 9.154375900177758e-05\n"
     ]
    }
   ],
   "source": [
    "eps = 1e-5\n",
    "iter_max = 10\n",
    "zeid_x, iter_num = zeid(B, c, np.zeros(c.shape), eps, iter_max)\n",
    "print('Решение методом Зейделя:', zeid_x)\n",
    "print('Абсолютная погрешность:', np.max(np.abs(zeid_x - x)))"
   ]
  },
  {
   "cell_type": "code",
   "execution_count": 86,
   "metadata": {},
   "outputs": [
    {
     "name": "stdout",
     "output_type": "stream",
     "text": [
      "Решение методом Зейделя: [ 0.44441239  0.10001063  2.00001746 -0.21210939 -0.99999594]\n",
      "Абсолютная погрешность: 3.2053819392863225e-05\n"
     ]
    }
   ],
   "source": [
    "zeid_x, iter_num = zeid(B, c, np.ones(c.shape), eps, iter_max)\n",
    "print('Решение методом Зейделя:', zeid_x)\n",
    "print('Абсолютная погрешность:', np.max(np.abs(zeid_x - x)))"
   ]
  },
  {
   "cell_type": "markdown",
   "metadata": {},
   "source": [
    "Погрешность отличается в зависимости от начального приближения. За 10 итераций алгоритм сходится к решению с большей или меньшей точностью."
   ]
  },
  {
   "cell_type": "markdown",
   "metadata": {},
   "source": [
    "### Задача 4.2\n",
    "##### Условие:\n",
    "\n",
    "Для системы уравнений $Ax=b$ из задачи $4.1$ найти решение по методу Зейделя с точностью $\\epsilon=10^{-6}$, взяв любое начальное приближение. Предусмотреть подсчет количества итераций, потребовавшихся для достижения точности $\\epsilon$. "
   ]
  },
  {
   "cell_type": "code",
   "execution_count": 87,
   "metadata": {},
   "outputs": [
    {
     "name": "stdout",
     "output_type": "stream",
     "text": [
      "Решение методом Зейделя: [ 0.44444445  0.1         2.         -0.21212121 -1.        ]\n",
      "Количество итераций: 21\n"
     ]
    }
   ],
   "source": [
    "eps = 1e-6\n",
    "iter_max = 40\n",
    "x0 = np.array([-1, 0.3, 1, -0.673, -0.2534])\n",
    "zeid_x, iter_num = zeid(B, c, x0, eps, iter_max)\n",
    "print('Решение методом Зейделя:', zeid_x)\n",
    "print('Количество итераций:', iter_num)"
   ]
  },
  {
   "cell_type": "markdown",
   "metadata": {},
   "source": [
    "### Задача 4.4.1\n",
    "##### Условие:\n",
    "\n",
    "Дана система уравнений $x=Bx+c$, где $B=B(t), t = −1, 0.8, ..., 0.8, 1$ - параметр. Построить график (или гистограмму) зависимости нормы $||B||_{\\infty}$ от параметра $t$. По графику определить, при каких перечисленных выше значениях $t$ выполнено достаточное условие сходимости итерационных методов. Найти решение системы $x=Bx+c$ с точностью $\\epsilon=10^{-5}$ для наибольшего значения параметра $t$, при котором выполнено условие сходимости."
   ]
  },
  {
   "cell_type": "code",
   "execution_count": 127,
   "metadata": {},
   "outputs": [],
   "source": [
    "def form_B(t):\n",
    "    B = np.matrix([[0.2, 0.3, -0.1],\n",
    "                  [0.1, -0.25, np.cos(0.5*np.pi*t)],\n",
    "                  [np.sin(10*np.pi*t), 0.1, 0.3]])\n",
    "    return B\n",
    "\n",
    "c = np.array([1, 2, 1])\n",
    "t = np.arange(-1, 1.2, 0.2)"
   ]
  },
  {
   "cell_type": "code",
   "execution_count": 128,
   "metadata": {},
   "outputs": [],
   "source": [
    "fig = []\n",
    "t_max = -1\n",
    "for tt in t:\n",
    "    norm = np.linalg.norm(form_B(tt), ord=np.inf)\n",
    "    fig.append(norm)\n",
    "    if norm < 1 and tt > t_max:\n",
    "            t_max = tt"
   ]
  },
  {
   "cell_type": "code",
   "execution_count": 134,
   "metadata": {},
   "outputs": [
    {
     "data": {
      "image/png": "[encoded data removed]",
      "text/plain": [
       "<Figure size 720x360 with 1 Axes>"
      ]
     },
     "metadata": {
      "needs_background": "light"
     },
     "output_type": "display_data"
    }
   ],
   "source": [
    "import matplotlib.pyplot as plt\n",
    "%matplotlib inline\n",
    "plt.figure(figsize=(10,5))\n",
    "plt.grid(True)\n",
    "plt.plot(t, fig, 'o-')\n",
    "plt.plot(t, np.ones(len(fig)))\n",
    "plt.xlabel('t', size=15)\n",
    "plt.ylabel('norm(B)', size=15)\n",
    "plt.title('Зависимость нормы от параметра t', size=15);"
   ]
  },
  {
   "cell_type": "markdown",
   "metadata": {},
   "source": [
    "Достаточное условие сходимости итерационных методов выполнено при $t\\in [-1; -0.6] \\cup [0.6; 1]$"
   ]
  },
  {
   "cell_type": "code",
   "execution_count": 138,
   "metadata": {},
   "outputs": [
    {
     "name": "stdout",
     "output_type": "stream",
     "text": [
      "Решение методом Зейделя: [1.91977418 1.46131825 2.8653233 ]\n",
      "Количество итераций: 25\n"
     ]
    }
   ],
   "source": [
    "B = form_B(t_max)\n",
    "eps = 1e-5\n",
    "iter_max = 40\n",
    "x0 = np.array([-1, 0.3, 1])\n",
    "zeid_t_max, iter_num = zeid(B, c, x0, eps, iter_max)\n",
    "print('Решение методом Зейделя:', zeid_t_max)\n",
    "print('Количество итераций:', iter_num)"
   ]
  },
  {
   "cell_type": "markdown",
   "metadata": {},
   "source": [
    "### Задача 4.8.1\n",
    "##### Условие:\n",
    "\n",
    "Дана система уравнений $Ax=b$, где $A$ – симметричная положительно определенная матрица размерности $n х n$. Найти решение системы с помощью явного и неявного нестационарных методов с чебышевским набором параметров с точностью $\\epsilon=10^{-6}$. Сравнить скорость сходимости методов.\n",
    "\n",
    "УКАЗАНИЕ. При подсчете числа итераций, достаточного для получения заданной точности $\\epsilon$, для нахождения\n",
    "собственных значений матрицы воспользоваться встроенной функцией numpy.linalg.eigvals."
   ]
  },
  {
   "cell_type": "code",
   "execution_count": 156,
   "metadata": {},
   "outputs": [],
   "source": [
    "eps = 1e-6\n",
    "n = 50\n",
    "m = 1\n",
    "q_m = 1.05 + (-1)**m * m * 10**(-2)\n",
    "q = np.array([q_m**(i+1) for i in range(n)])\n",
    "tau = np.sum([q_m**(2*(i+1)) for i in range(n)])\n",
    "t_m = m + n\n",
    "b = np.array([tau + 3*q[i] for i in range(n)])\n",
    "A = np.zeros([n,n])\n",
    "for i in range(n):\n",
    "    for j in range(n):\n",
    "        if i == j:\n",
    "            A[i][j] = 2 * q[i] * t_m**2\n",
    "        else:\n",
    "            A[i][j] = 2 * tau + (q[i] + q[j]) * t_m\n",
    "B = np.diag(np.diag(A))\n",
    "B_inv = np.diag(1/np.diag(B))"
   ]
  },
  {
   "cell_type": "code",
   "execution_count": 157,
   "metadata": {},
   "outputs": [],
   "source": [
    "lambda_vec = np.linalg.eigvals(A)\n",
    "l_max, l_min = max(lambda_vec), min(lambda_vec)\n",
    "tau_0 = 2 / (l_max + l_min)\n",
    "ksi = l_min / l_max\n",
    "p_0 = (1 - ksi) / (1 + ksi)"
   ]
  },
  {
   "cell_type": "code",
   "execution_count": 203,
   "metadata": {},
   "outputs": [],
   "source": [
    "def explicit_method(x0, b, A, eps, l_max, l_min, tau_0, ksi, p_0, max_it):\n",
    "    counter = 1\n",
    "    t_k = np.array([np.cos((2*k + 1) * np.pi / 2 / max_it) for k in range(max_it)])\n",
    "    tau = np.array([tau_0 / (1 + p_0 * t_k[i]) for i in range(max_it)])\n",
    "    x = x0\n",
    "    x_next = tau[0] * (b - np.dot(A, x)) + x\n",
    "    while np.linalg.norm(x_next - x, ord = np.inf) > eps and counter != max_it:\n",
    "        x = x_next\n",
    "        x_next = tau[counter] * (b - np.dot(A,x)) + x\n",
    "        counter += 1\n",
    "    if counter == max_it:\n",
    "        print(\"Явный метод - достигнуто максимальное количество итераций.\")\n",
    "    else: \n",
    "        print(\"Явный метод - заданная точность получена за \", counter, \"шагов.\")\n",
    "    return x_next"
   ]
  },
  {
   "cell_type": "code",
   "execution_count": 204,
   "metadata": {},
   "outputs": [],
   "source": [
    "def implicit_method(x_0, b, A, B_inv, eps, max_it):\n",
    "    lambda_vec = np.linalg.eigvals(np.dot(B_inv, A))\n",
    "    l_max, l_min = max(lambda_vec), min(lambda_vec)\n",
    "    tau_0 = 2 / (l_max + l_min)\n",
    "    ksi = l_min/ l_max\n",
    "    p_0 = (1 - ksi) / (1 + ksi)\n",
    "    counter = 0\n",
    "    t_k = np.array([np.cos((2*k + 1) * np.pi / 2 / max_it) for k in range(max_it)])\n",
    "    tau = np.array([tau_0 / (1 + p_0 * t_k[i]) for i in range(max_it)])\n",
    "    x = x0\n",
    "    x_next = np.dot(B_inv, tau[counter] * (b - np.dot(A, x))) + x\n",
    "    counter += 1\n",
    "    while np.linalg.norm(x_next - x, ord = np.inf) > eps and counter != max_it:\n",
    "        x = x_next\n",
    "        x_next = np.dot(B_inv, tau[counter] * (b - np.dot(A, x))) + x\n",
    "        counter += 1\n",
    "    if counter == max_it:\n",
    "        print(\"Неявный метод - достигнуто максимальное количество итераций.\")\n",
    "    else: \n",
    "        print(\"Неявный метод - заданная точность получена за \", counter, \"шагов.\")\n",
    "    return x_next"
   ]
  },
  {
   "cell_type": "code",
   "execution_count": 205,
   "metadata": {},
   "outputs": [
    {
     "name": "stdout",
     "output_type": "stream",
     "text": [
      "Явный метод - заданная точность получена за  93 шагов.\n",
      "Неявный метод - заданная точность получена за  56 шагов.\n"
     ]
    }
   ],
   "source": [
    "it_num = 120\n",
    "x0 = np.zeros(b.shape)\n",
    "sol_explicit = explicit_method(x0, b, A, eps, l_max, l_min, tau_0, ksi, p_0, it_num)\n",
    "sol_implicit = implicit_method(x0, b, A, B_inv, eps, it_num)"
   ]
  },
  {
   "cell_type": "code",
   "execution_count": 206,
   "metadata": {},
   "outputs": [
    {
     "name": "stdout",
     "output_type": "stream",
     "text": [
      "Явный метод - достигнуто максимальное количество итераций.\n",
      "Неявный метод - заданная точность получена за  78 шагов.\n"
     ]
    }
   ],
   "source": [
    "x0 = np.ones(b.shape)\n",
    "sol_explicit = explicit_method(x0, b, A, eps, l_max, l_min, tau_0, ksi, p_0, it_num)\n",
    "sol_implicit = implicit_method(x0, b, A, B_inv, eps, it_num)"
   ]
  },
  {
   "cell_type": "code",
   "execution_count": 208,
   "metadata": {},
   "outputs": [
    {
     "name": "stdout",
     "output_type": "stream",
     "text": [
      "Явный метод - заданная точность получена за  91 шагов.\n",
      "Неявный метод - заданная точность получена за  73 шагов.\n"
     ]
    }
   ],
   "source": [
    "import random\n",
    "x0 = random.random() * np.ones(b.shape)\n",
    "sol_explicit = explicit_method(x0, b, A, eps, l_max, l_min, tau_0, ksi, p_0, it_num)\n",
    "sol_implicit = implicit_method(x0, b, A, B_inv, eps, it_num)"
   ]
  },
  {
   "cell_type": "markdown",
   "metadata": {},
   "source": [
    "Неявный метод сходится быстрее."
   ]
  }
 ],
 "metadata": {
  "kernelspec": {
   "display_name": "Python 3",
   "language": "python",
   "name": "python3"
  },
  "language_info": {
   "codemirror_mode": {
    "name": "ipython",
    "version": 3
   },
   "file_extension": ".py",
   "mimetype": "text/x-python",
   "name": "python",
   "nbconvert_exporter": "python",
   "pygments_lexer": "ipython3",
   "version": "3.6.6"
  }
 },
 "nbformat": 4,
 "nbformat_minor": 2
}
