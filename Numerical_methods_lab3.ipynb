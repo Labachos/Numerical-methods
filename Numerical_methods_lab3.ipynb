{
 "cells": [
  {
   "cell_type": "markdown",
   "metadata": {},
   "source": [
    "## Богатов Антон Юрьевич\n",
    "### Лабораторная работа 3\n",
    "### Вариант 4\n",
    "### Задания 3.1.4, 3.2 и 3.7"
   ]
  },
  {
   "cell_type": "markdown",
   "metadata": {},
   "source": [
    "### Задача 3.1.4\n",
    "##### Условие:\n",
    "\n",
    "Дана система уравнений $Ax=b$ порядка $n$. Исследовать зависимость погрешности решения $x$ от погрешностей правой части системы $b$.\n",
    "\n",
    "Компоненты вектора $b$ во всех вариантах задаются формулой $b_i = N$, $\\forall i = 1 ... n$, коэффициенты $c = c_{ij} = 0.1*N*i*j$, $\\forall i, j = 1 ... n$, $N$ - номер варианта.\n",
    "\n",
    "$$N = 4$$ $$n = 7$$ $$a_{ij} = \\frac{55}{c^2+3c+100}$$\n",
    "\n",
    "##### Порядок решения задачи:\n",
    "1. Задать матрицу системы $A$ и вектор правой части $b$. Используя встроенную функцию numpy.linalg.solve, найти решение $x$ системы $Ax = b$ с помощью метода Гаусса.\n",
    "2. С помощью встроенной функции numpy.linag.cond вычислить число обусловленности матрицы $A$.\n",
    "3. Принимая решение $x$, полученное в п.1, за точное, вычислить вектор $d = (d_1, ..., d_n)^T$, $d_i = \\frac{||x-x^i||_{\\infty}}{||x||_{\\infty}}$, $i = 1, ..., n$, относительных погрешностей решений $x^i$ систем $Ax^i = b^i$, $i = 1, ..., n$,  где компоненты векторов $b^i$ вычисляются по формулам: $b_k^i = \\begin{equation*}\\begin{cases}b_k + \\Delta, k = i, \\\\b_k, k \\neq i.\\end{cases}\\text{k = 1, ..., n}\\end{equation*}$, ($\\Delta$ - произвольная величина погрешности).\n",
    "4. Определить компоненту $b_m$ вектора $b$, которая оказывает наибольшее влияние на погрешность решения.\n",
    "5. Оценить теоретически погрешность решения $x^m$ по формуле: $\\delta (x^m) \\leq cond(A) * \\delta(b^m)$. Сравнить значение $\\delta (x^m)$ со значением практической погрешности $d_m$. Объяснить полученные результаты."
   ]
  },
  {
   "cell_type": "markdown",
   "metadata": {},
   "source": [
    "Пункт 1:"
   ]
  },
  {
   "cell_type": "code",
   "execution_count": 45,
   "metadata": {},
   "outputs": [
    {
     "name": "stdout",
     "output_type": "stream",
     "text": [
      "Матрица A:\n",
      "\n",
      " [[0.54262036 0.53377329 0.52361005 0.51229508 0.5        0.48689802\n",
      "  0.47315898]\n",
      " [0.53377329 0.51229508 0.48689802 0.45894526 0.4296875  0.40017462\n",
      "  0.3712203 ]\n",
      " [0.52361005 0.48689802 0.44440853 0.40017462 0.35714286 0.31711255\n",
      "  0.28095627]\n",
      " [0.51229508 0.45894526 0.40017462 0.34340659 0.29255319 0.24891383\n",
      "  0.21232242]\n",
      " [0.5        0.4296875  0.35714286 0.29255319 0.23913043 0.19642857\n",
      "  0.16272189]\n",
      " [0.48689802 0.40017462 0.31711255 0.24891383 0.19642857 0.15689183\n",
      "  0.12712648]\n",
      " [0.47315898 0.3712203  0.28095627 0.21232242 0.16272189 0.12712648\n",
      "  0.1012966 ]]\n"
     ]
    }
   ],
   "source": [
    "import numpy as np\n",
    "# Зададим матрицу А и вектор b\n",
    "n = 7\n",
    "b = np.array([4.0] * n)\n",
    "C, A = np.ones((n,n)), np.ones((n,n))\n",
    "for i in range(n):\n",
    "    for j in range(n):\n",
    "        C[i][j] = 0.1 * 4 * (i + 1) * (j + 1)\n",
    "        A[i][j] = 55 / (C[i][j] ** 2 + 3 * C[i][j] + 100)\n",
    "print('Матрица A:\\n\\n', A)"
   ]
  },
  {
   "cell_type": "code",
   "execution_count": 111,
   "metadata": {},
   "outputs": [
    {
     "name": "stdout",
     "output_type": "stream",
     "text": [
      "Решения:\n",
      "\n",
      " [ 21.42617103 -36.01188314  49.15018933 -49.51391554  32.05364783\n",
      " -11.09060325   1.26654193]\n"
     ]
    }
   ],
   "source": [
    "# Находим решения\n",
    "x = np.linalg.solve(A, b)\n",
    "print('Решения:\\n\\n', x)"
   ]
  },
  {
   "cell_type": "markdown",
   "metadata": {},
   "source": [
    "Пункт 2:"
   ]
  },
  {
   "cell_type": "code",
   "execution_count": 61,
   "metadata": {},
   "outputs": [
    {
     "name": "stdout",
     "output_type": "stream",
     "text": [
      "Число обусловленности матрицы А: 7476680.393841291\n"
     ]
    }
   ],
   "source": [
    "condA = np.linalg.cond(A, np.inf)\n",
    "print('Число обусловленности матрицы А:', condA)"
   ]
  },
  {
   "cell_type": "markdown",
   "metadata": {},
   "source": [
    "Пункт 3:"
   ]
  },
  {
   "cell_type": "code",
   "execution_count": 112,
   "metadata": {},
   "outputs": [
    {
     "name": "stdout",
     "output_type": "stream",
     "text": [
      "Вектора b с погрешностями:\n",
      "\n",
      "[4.004 4.    4.    4.    4.    4.    4.   ]\n",
      "[4.    4.004 4.    4.    4.    4.    4.   ]\n",
      "[4.    4.    4.004 4.    4.    4.    4.   ]\n",
      "[4.    4.    4.    4.004 4.    4.    4.   ]\n",
      "[4.    4.    4.    4.    4.004 4.    4.   ]\n",
      "[4.    4.    4.    4.    4.    4.004 4.   ]\n",
      "[4.    4.    4.    4.    4.    4.    4.004]\n",
      "\n",
      "Решения с погрешностями:\n",
      "\n",
      " [[   24.04917328   -51.66757567    97.20323898  -140.34191638\n",
      "    136.42826401   -77.36683012    18.99722026]\n",
      " [    5.77047851    55.7982675   -225.48579944   453.13654753\n",
      "   -524.54507427   328.31269524   -85.74297876]\n",
      " [   69.47922069  -310.64787191   841.92366254 -1441.38307411\n",
      "   1506.74816748  -871.44641673   212.65561042]\n",
      " [  -69.4018298    466.63857993 -1342.71896923  2287.58127995\n",
      "  -2339.33439454  1318.8152673   -314.34929932]\n",
      " [  125.80078721  -592.61060525  1523.84470897 -2420.90195792\n",
      "   2347.96070357 -1268.94209753   292.16066278]\n",
      " [  -44.85005583   303.39141535  -811.20562414  1280.39195501\n",
      "  -1225.79784644   655.38612234  -150.0469087 ]\n",
      " [   39.15684936  -123.02140383   260.53925781  -365.1297568\n",
      "    322.94776868  -162.40405389    35.1927534 ]]\n"
     ]
    }
   ],
   "source": [
    "#Рассмотрим погрешности вектора b, равныe 0.001% от значения В\n",
    "eps = 0.004\n",
    "x_i = np.ones((n, n))\n",
    "print('Вектора b с погрешностями:\\n')\n",
    "for i in range(n):\n",
    "    b_i = b.copy()\n",
    "    b_i[i] += eps\n",
    "    print(b_i)\n",
    "    x_i[i] = np.linalg.solve(A, b_i)\n",
    "print('\\nРешения с погрешностями:\\n\\n', x_i)"
   ]
  },
  {
   "cell_type": "code",
   "execution_count": 65,
   "metadata": {},
   "outputs": [
    {
     "name": "stdout",
     "output_type": "stream",
     "text": [
      "Вектор относительных погрешностей:\n",
      "\n",
      " [ 2.1079855  11.24125846 29.7834357  47.89336525 47.89336525 26.85923454\n",
      "  6.37428565]\n"
     ]
    }
   ],
   "source": [
    "# Вычисляем вектор d относительных погрешностей:\n",
    "d = np.array([0.0] * n)\n",
    "for i in range(n):\n",
    "    d[i] = np.linalg.norm((x - x_i)[i], ord=np.inf) / np.linalg.norm(x, ord=np.inf)\n",
    "print('Вектор относительных погрешностей:\\n\\n', d)"
   ]
  },
  {
   "cell_type": "markdown",
   "metadata": {},
   "source": [
    "Пункт 4:"
   ]
  },
  {
   "cell_type": "code",
   "execution_count": 70,
   "metadata": {},
   "outputs": [
    {
     "name": "stdout",
     "output_type": "stream",
     "text": [
      "Порядковый номер максимального элемента:  4\n",
      "Значение максимального элемента:  47.89336525469474\n"
     ]
    }
   ],
   "source": [
    "# Определяем компоненту вектора d, которая оказывает наибольшее влияние на погрешность решения:\n",
    "print('Порядковый номер максимального элемента: ', d.argmax() + 1)\n",
    "print('Значение максимального элемента: ', d.max())"
   ]
  },
  {
   "cell_type": "markdown",
   "metadata": {},
   "source": [
    "Получили, что четвертый елемент вектора b больше всего влияет на погрешность."
   ]
  },
  {
   "cell_type": "markdown",
   "metadata": {},
   "source": [
    "Пункт 5:"
   ]
  },
  {
   "cell_type": "code",
   "execution_count": 73,
   "metadata": {},
   "outputs": [
    {
     "data": {
      "text/plain": [
       "7476.680393840467"
      ]
     },
     "execution_count": 73,
     "metadata": {},
     "output_type": "execute_result"
    }
   ],
   "source": [
    "condA * np.linalg.norm(b_i - b, ord=np.inf) / np.linalg.norm(b, ord=np.inf)"
   ]
  },
  {
   "cell_type": "markdown",
   "metadata": {},
   "source": [
    "Большая разница в оценках погрешности возникает из-за плохой обусловленности матрицы."
   ]
  },
  {
   "cell_type": "markdown",
   "metadata": {},
   "source": [
    "### Задача 3.2\n",
    "##### Условие:\n",
    "\n",
    "Для системы уравнений $Ax = b$ из задачи $3.1$ исследовать зависимость погрешности решения системы от погрешностей коэффициентов матрицы $A$ (аналогично задаче $3.1$). Теоретическая оценка погрешности в этом случае имеет вид: $\\delta x^* \\leq cond(A) * \\delta(A^*)$, где $x^*$ - решение системы с возмущенной матрицей $A^*$."
   ]
  },
  {
   "cell_type": "code",
   "execution_count": 96,
   "metadata": {},
   "outputs": [
    {
     "name": "stdout",
     "output_type": "stream",
     "text": [
      "Собственные значения:\n",
      "\n",
      " [-3.82831006e-01 -3.56169985e-03 -1.80527085e-05  6.20253746e-07\n",
      "  2.80905847e-04  3.84473356e-02  2.68773133e+00]\n",
      "\n",
      "Собственные векторы:\n",
      "\n",
      " [[-0.57738436 -0.35621985 -0.09262146  0.02499442  0.20791189  0.49113997\n",
      "  -0.49606999]\n",
      " [-0.29253772  0.48615689  0.37068582 -0.13540481 -0.54835117 -0.13723681\n",
      "  -0.45034184]\n",
      " [-0.02806371  0.31685712 -0.5793151   0.36650958  0.25701476 -0.44732188\n",
      "  -0.40339223]\n",
      " [ 0.17964383 -0.2140881   0.25663062 -0.60352739  0.4365107  -0.41387487\n",
      "  -0.3604938 ]\n",
      " [ 0.32985197 -0.46861122  0.38156611  0.6033937  -0.17649761 -0.16246088\n",
      "  -0.32307834]\n",
      " [ 0.4332463  -0.22415515 -0.52211481 -0.33489001 -0.5078265   0.18642937\n",
      "  -0.29095233]\n",
      " [ 0.50148264  0.46977094  0.18534148  0.07893638  0.33233462  0.55444464\n",
      "  -0.26342523]]\n"
     ]
    }
   ],
   "source": [
    "# Матрица А симметричная, найдем ее собственные значения и собственные векторы:\n",
    "A_eigenvalues, A_eigenvectors = np.linalg.eigh(A)\n",
    "print('Собственные значения:\\n\\n', A_eigenvalues)\n",
    "print('\\nСобственные векторы:\\n\\n', A_eigenvectors)"
   ]
  },
  {
   "cell_type": "code",
   "execution_count": 110,
   "metadata": {},
   "outputs": [
    {
     "name": "stdout",
     "output_type": "stream",
     "text": [
      "[[0.5437056  0.53484084 0.52465727 0.51331967 0.501      0.48787181\n",
      "  0.4741053 ]\n",
      " [0.53484084 0.51331967 0.48787181 0.45986315 0.43054687 0.40097497\n",
      "  0.37196274]\n",
      " [0.52465727 0.48787181 0.44529735 0.40097497 0.35785714 0.31774677\n",
      "  0.28151819]\n",
      " [0.51331967 0.45986315 0.40097497 0.34409341 0.2931383  0.24941166\n",
      "  0.21274707]\n",
      " [0.501      0.43054687 0.35785714 0.2931383  0.2396087  0.19682143\n",
      "  0.16304734]\n",
      " [0.48787181 0.40097497 0.31774677 0.24941166 0.19682143 0.15720561\n",
      "  0.12738073]\n",
      " [0.4741053  0.37196274 0.28151819 0.21274707 0.16304734 0.12738073\n",
      "  0.10149919]]\n"
     ]
    }
   ],
   "source": [
    "# Немного изменим матрицу А (получим так называемую возмущенную матрицу А). Умножим ее на коээфициент a\n",
    "a = 1.002\n",
    "A_eps = A * a\n",
    "print(A_eps)"
   ]
  },
  {
   "cell_type": "code",
   "execution_count": 114,
   "metadata": {},
   "outputs": [
    {
     "name": "stdout",
     "output_type": "stream",
     "text": [
      "Решения системы с возмущенной матрицей A:\n",
      "\n",
      " [ 21.38340422 -35.94000314  49.05208516 -49.41508538  31.9896685\n",
      " -11.06846632   1.26401391]\n"
     ]
    }
   ],
   "source": [
    "# Найдем решения с новой матрицей А\n",
    "x_epsilon = np.linalg.solve(A_eps, b)\n",
    "print('Решения системы с возмущенной матрицей A:\\n\\n', x_epsilon)"
   ]
  },
  {
   "cell_type": "code",
   "execution_count": 117,
   "metadata": {},
   "outputs": [
    {
     "data": {
      "text/plain": [
       "14953.360787682472"
      ]
     },
     "execution_count": 117,
     "metadata": {},
     "output_type": "execute_result"
    }
   ],
   "source": [
    "# Оценка погрешности\n",
    "condA * np.linalg.norm(A_eps - A, ord=np.inf) / np.linalg.norm(A, ord=np.inf)"
   ]
  },
  {
   "cell_type": "markdown",
   "metadata": {},
   "source": [
    "### Задача 3.7\n",
    "##### Условие:\n",
    "\n",
    "Исследовать зависимость числа обусловленности матрицы $A$ из задачи $3.1$ от порядка $n$ матрицы.\n",
    "\n",
    "##### Порядок решения задачи:\n",
    "\n",
    "1. Cоставить программу, выполняющую LU-разложение матрицы произвольного порядка $n$ (схема единственного деления).\n",
    "2. Используя составленную программу, для каждого $n = 1, 2, 3, ..., k$ ($k$ - максимально возможное значение, при котором удается решить задачу) найти обратную матрицу $A^{-1}$.\n",
    "3. Вычислить число обусловленности матрицы по формуле $cond(A) = ||A|| * ||A^{-1}||$ для каждого значения $n$.\n",
    "4. Построить график зависимости $cond(A)$ от $n$.\n"
   ]
  },
  {
   "cell_type": "markdown",
   "metadata": {},
   "source": [
    "Пункт 1:"
   ]
  },
  {
   "cell_type": "code",
   "execution_count": 97,
   "metadata": {},
   "outputs": [],
   "source": [
    "def LU(a):\n",
    "    m = np.zeros(a.shape)\n",
    "    m = a.copy()\n",
    "    n = m.shape[0]\n",
    "    \n",
    "    for i in range(n - 1):\n",
    "        for j in range(i + 1, n):\n",
    "            m[j, i+1:] -= m[i, i+1:] * m[j, i] / m[i, i]\n",
    "        m[i+1:, i] = m[i+1:, i] / m[i, i]\n",
    "    L = np.tril(m)\n",
    "    np.fill_diagonal(L, 1)\n",
    "    return L, np.triu(m)"
   ]
  },
  {
   "cell_type": "code",
   "execution_count": 100,
   "metadata": {},
   "outputs": [
    {
     "name": "stdout",
     "output_type": "stream",
     "text": [
      "L:\n",
      " [[ 1.          0.          0.          0.          0.          0.\n",
      "   0.        ]\n",
      " [ 0.98369565  1.          0.          0.          0.          0.\n",
      "   0.        ]\n",
      " [ 0.96496573  2.20540648  1.          0.          0.          0.\n",
      "   0.        ]\n",
      " [ 0.94411326  3.52217847  3.95689743  1.          0.          0.\n",
      "   0.        ]\n",
      " [ 0.92145455  4.86563249  9.17931628  3.89718839  1.          0.\n",
      "   0.        ]\n",
      " [ 0.89730878  6.16692519 16.42701499  9.10334781  4.71343853  1.\n",
      "   0.        ]\n",
      " [ 0.87198899  7.37544378 25.13954808 16.48889145 12.44797192  4.46007509\n",
      "   1.        ]] \n",
      "\n",
      "U:\n",
      " [[ 5.42620363e-01  5.33773292e-01  5.23610053e-01  5.12295082e-01\n",
      "   5.00000000e-01  4.86898017e-01  4.73158981e-01]\n",
      " [ 0.00000000e+00 -1.27753845e-02 -2.81749159e-02 -4.49971844e-02\n",
      "  -6.21603261e-02 -7.87848407e-02 -9.42241304e-02]\n",
      " [ 0.00000000e+00  0.00000000e+00  1.27991880e-03  5.06450742e-03\n",
      "   1.17487795e-02  2.10252454e-02  3.21765803e-02]\n",
      " [ 0.00000000e+00  0.00000000e+00  0.00000000e+00 -1.80961062e-03\n",
      "  -7.05239351e-03 -1.64735149e-02 -2.98384731e-02]\n",
      " [ 0.00000000e+00  0.00000000e+00  0.00000000e+00  0.00000000e+00\n",
      "   4.91207178e-04  2.31527484e-03  6.11453316e-03]\n",
      " [ 0.00000000e+00  0.00000000e+00  0.00000000e+00  0.00000000e+00\n",
      "   0.00000000e+00 -4.76608861e-04 -2.12571131e-03]\n",
      " [ 0.00000000e+00  0.00000000e+00  0.00000000e+00  0.00000000e+00\n",
      "   0.00000000e+00  0.00000000e+00  1.17902938e-04]]\n"
     ]
    }
   ],
   "source": [
    "L, U = LU(A)\n",
    "print('L:\\n', L, '\\n\\nU:\\n', U)"
   ]
  },
  {
   "cell_type": "code",
   "execution_count": 101,
   "metadata": {},
   "outputs": [],
   "source": [
    "def matrix_create(n):\n",
    "    C, A = np.ones((n,n)), np.ones((n,n))\n",
    "    for i in range(n):\n",
    "        for j in range(n):\n",
    "            C[i][j] = 0.1 * 4 * (i + 1) * (j + 1)\n",
    "            A[i][j] = 55 / (C[i][j] ** 2 + 3 * C[i][j] + 100)\n",
    "    return A"
   ]
  },
  {
   "cell_type": "code",
   "execution_count": 102,
   "metadata": {},
   "outputs": [],
   "source": [
    "def solve_LU(L, U, b):\n",
    "    n = len(L)\n",
    "    y = np.matrix([0.0 for i in range(n)]).T\n",
    "    for i in range(n):\n",
    "        y[i, 0] = (b[i] - L[i, :i] * y[:i, 0]) / L[i, i]\n",
    "    x = np.matrix([0.0 for i in range(n)]).T\n",
    "    for i in range(n - 1, -1, -1):\n",
    "        x[i, 0] = (y[i] - U[i, :i] * x[:i, 0]) / U[i, i]\n",
    "    return x"
   ]
  },
  {
   "cell_type": "markdown",
   "metadata": {},
   "source": [
    "Пункт 2:"
   ]
  },
  {
   "cell_type": "code",
   "execution_count": 104,
   "metadata": {},
   "outputs": [
    {
     "name": "stdout",
     "output_type": "stream",
     "text": [
      "LU разложение невозможно, так как не все главные миноры больше 0\n",
      "Max n = 6\n"
     ]
    }
   ],
   "source": [
    "m = 0\n",
    "eps1 = 10 ** (-15)\n",
    "for j in range(1, 100):\n",
    "    A = matrix_create(j)\n",
    "    k = 0\n",
    "    for i in range(1, A.shape[0]+1):\n",
    "        if np.abs(np.linalg.det(A[:i, :i])) < eps1:\n",
    "            print('LU разложение невозможно, так как не все главные миноры больше 0')\n",
    "            k = 1\n",
    "            break\n",
    "    if k == 1:\n",
    "        break\n",
    "    m = j\n",
    "    A_i = np.ones(A.shape)\n",
    "    e = np.diag([1]*A.shape[0])\n",
    "    L, U = LU(A)\n",
    "    for k in range(A.shape[0]):\n",
    "        A_i[:, k] = np.reshape(solve_LU(L, U, e[:, k]), A.shape[0])\n",
    "print('Max n =', m)"
   ]
  },
  {
   "cell_type": "markdown",
   "metadata": {},
   "source": [
    "Пункт 3 и 4:"
   ]
  },
  {
   "cell_type": "code",
   "execution_count": 106,
   "metadata": {},
   "outputs": [
    {
     "data": {
      "image/png": "[encoded data removed]",
      "text/plain": [
       "<Figure size 936x504 with 1 Axes>"
      ]
     },
     "metadata": {
      "needs_background": "light"
     },
     "output_type": "display_data"
    }
   ],
   "source": [
    "import matplotlib.pyplot as plt\n",
    "cond_n = []\n",
    "for i in range(1, m + 2):\n",
    "    cond_n.append(np.linalg.cond(matrix_create(i), np.inf))\n",
    "plt.figure(figsize=(13, 7))\n",
    "plt.plot(cond_n, 'o-')\n",
    "plt.ylabel('$cond(A)$', size=14)\n",
    "plt.xlabel('$n$', size=14)\n",
    "plt.grid(True)\n",
    "plt.show()"
   ]
  }
 ],
 "metadata": {
  "kernelspec": {
   "display_name": "Python 3",
   "language": "python",
   "name": "python3"
  },
  "language_info": {
   "codemirror_mode": {
    "name": "ipython",
    "version": 3
   },
   "file_extension": ".py",
   "mimetype": "text/x-python",
   "name": "python",
   "nbconvert_exporter": "python",
   "pygments_lexer": "ipython3",
   "version": "3.6.6"
  }
 },
 "nbformat": 4,
 "nbformat_minor": 2
}
