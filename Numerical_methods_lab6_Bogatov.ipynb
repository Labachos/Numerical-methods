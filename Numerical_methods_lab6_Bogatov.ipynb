{
 "cells": [
  {
   "cell_type": "markdown",
   "metadata": {},
   "source": [
    "## Богатов Антон Юрьевич\n",
    "### Лабораторная работа 6\n",
    "### Вариант 4\n",
    "### Задания 6.1.4, 6.2.2, 6.6.4, 6.8.2 и 6.9.4"
   ]
  },
  {
   "cell_type": "markdown",
   "metadata": {},
   "source": [
    "### Задача 6.1.4\n",
    "##### Условие:\n",
    "\n",
    "Вычислить значение интеграла $I=\\int_{1}^{1.44} P_n(x) dx$, где $P_n(x)=\\sum_{i=0}^{n} c_ix^i$, с помощью квадратурных формул трапеций и Симпсона для элементарного отрезка интегрирования. Оценить величину погрешности. Применяя те же квадратурные формулы для составного отрезка интегрирования, вычислить интеграл $I$ с точностью $0.0001$. Предварительно оценить шаг интегрирования, при котором достигается заданная точность.\n",
    "\n",
    "##### Порядок решения задачи:\n",
    "1. Вычислить значение интеграла $I$ аналитически.\n",
    "2. Задать многочлен $P_n(x)$. Вычислить значение интеграла $I$ по формулам трапеций и Симпсона, считая отрезок $[1, 1.44]$ элементарным отрезком интегрирования.\n",
    "3. Найти абсолютные погрешности результатов.\n",
    "4. Используя выражение для остаточных членов интегрирования, оценить шаги интегрирования, при которых величина погрешности каждой квадратурной формулы будет меньше 0.0001.\n",
    "5. Вычислить значения интеграла по составной квадратурной формуле с найденным шагом.\n",
    "6. Найти абсолютные погрешности результатов."
   ]
  },
  {
   "cell_type": "code",
   "execution_count": 1,
   "metadata": {},
   "outputs": [],
   "source": [
    "import numpy as np"
   ]
  },
  {
   "cell_type": "code",
   "execution_count": 15,
   "metadata": {},
   "outputs": [],
   "source": [
    "a = 1\n",
    "b = 1.44"
   ]
  },
  {
   "cell_type": "markdown",
   "metadata": {},
   "source": [
    "Аналитическое решение:\n",
    "$\\int_{1}^{1.44} (0.1-0.1x+x^2+x^3+x^4) dx = 2.51562$"
   ]
  },
  {
   "cell_type": "code",
   "execution_count": 21,
   "metadata": {},
   "outputs": [],
   "source": [
    "answer_a = 2.51562"
   ]
  },
  {
   "cell_type": "code",
   "execution_count": 16,
   "metadata": {},
   "outputs": [],
   "source": [
    "def p(x):\n",
    "    c = np.array([0.1, -0.1, 1, 1, 1])\n",
    "    return np.sum(c * [x**i for i in range(c.shape[0])])\n",
    "\n",
    "def trapezoidal_method(f, a, b):\n",
    "    return (b - a) * (f(a) + f(b)) / 2\n",
    "\n",
    "def simpson_method(f, a, b):\n",
    "    return (b - a) * (f(a) + f(b) + 4*f((a + b) / 2.)) / 6"
   ]
  },
  {
   "cell_type": "code",
   "execution_count": 27,
   "metadata": {},
   "outputs": [
    {
     "name": "stdout",
     "output_type": "stream",
     "text": [
      "Метод трапеций - ответ: 2.7093882111999994 , абсолютная погрешность: 0.1937682111999992\n",
      "Метод Симпсона - ответ: 2.515753621333333 , абсолютная погрешность: 0.00013362133333272297\n"
     ]
    }
   ],
   "source": [
    "answer_tr = trapezoidal_method(p, a, b)\n",
    "answer_s = simpson_method(p, a, b)\n",
    "print ('Метод трапеций - ответ:',  answer_tr, ', абсолютная погрешность:',abs(answer_tr - answer_a))\n",
    "print('Метод Симпсона - ответ:', answer_s, ', абсолютная погрешность:',abs(answer_s - answer_a))"
   ]
  },
  {
   "cell_type": "markdown",
   "metadata": {},
   "source": [
    "$$\\max_{x \\in [1,1.44]} \\lvert \\frac{d^3f}{dx^3} \\rvert = \\max_{x \\in [1,1.44]} \\lvert 24x+6 \\rvert = 40.56$$"
   ]
  },
  {
   "cell_type": "code",
   "execution_count": 59,
   "metadata": {},
   "outputs": [
    {
     "name": "stdout",
     "output_type": "stream",
     "text": [
      "Оценка шага для метода трапеций: 0.0088\n",
      "Оценка шага для метода Симпсона: 0.1782\n"
     ]
    }
   ],
   "source": [
    "print('Оценка шага для метода трапеций:', round(np.power(12 * 0.0001 / (b - a) / 35.5232, 1/2), 4))\n",
    "print('Оценка шага для метода Симпсона:', round(np.power(180 * 0.0001 / (b - a) / 40.56, 1/4), 4))"
   ]
  },
  {
   "cell_type": "code",
   "execution_count": 60,
   "metadata": {},
   "outputs": [
    {
     "data": {
      "text/plain": [
       "(50, 3)"
      ]
     },
     "execution_count": 60,
     "metadata": {},
     "output_type": "execute_result"
    }
   ],
   "source": [
    "n_tr = np.ceil((b-a)/0.0088).astype(int)\n",
    "n_s = np.ceil((b-a)/0.1782).astype(int)\n",
    "n_tr, n_s"
   ]
  },
  {
   "cell_type": "code",
   "execution_count": 140,
   "metadata": {},
   "outputs": [
    {
     "name": "stdout",
     "output_type": "stream",
     "text": [
      "Метод трапеций - ответ: 2.5156939197550314 , абсолютная погрешность: 7.39197550312376e-05\n",
      "Метод Симпсона - ответ: 2.515624780533333 , абсолютная погрешность: 4.78053333274886e-06\n"
     ]
    }
   ],
   "source": [
    "# Для метода Симпсона берем 4 шага\n",
    "def trapezoidal(f, a, b, n):\n",
    "    x_grid = np.linspace(a, b, n+1)[1:][:-1]\n",
    "    return (b-a)/(2*n)*(f(a)+f(b)+2*np.sum([f(x) for x in x_grid]))\n",
    "\n",
    "def simpson(f, a, b, n):\n",
    "    x_grid = np.linspace(a, b, n+1)[1:][:-1]\n",
    "    return (b-a)/(3*n)*(f(a)+f(b)+2*np.sum([f(x) for x in x_grid[1::2]])+4*np.sum([f(x) for x in x_grid[::2]]))\n",
    "\n",
    "res_tr = trapezoidal(p, a, b, 50)\n",
    "res_s = simpson(p, a, b, 4)\n",
    "print ('Метод трапеций - ответ:',  res_tr, ', абсолютная погрешность:', abs(res_tr - answer_a))\n",
    "print('Метод Симпсона - ответ:', res_s, ', абсолютная погрешность:', abs(res_s - answer_a))"
   ]
  },
  {
   "cell_type": "markdown",
   "metadata": {},
   "source": [
    "### Задача 6.2.2\n",
    "##### Условие:\n",
    "\n",
    "Вычислить интегралы $I_k=\\int_{a}^{b} P_k(x) dx$, где $P_k(x)=\\sum_{i=0}^{n} c_ix^i$, $k = 0, 1, ..., 5$ аналитически и используя квадратурную формулу, указанную в индивидуальном варианте, с шагом $h = (b - a) / 2$. Для многочленов какой степени используемая квадратурная формула точна и почему? Оценить погрешность интегрирования по правилу Рунге."
   ]
  },
  {
   "cell_type": "code",
   "execution_count": 39,
   "metadata": {},
   "outputs": [],
   "source": [
    "a2 = -1\n",
    "b2 = 0\n",
    "h = 0.5\n",
    "def p2(x):\n",
    "    c2 = np.array([0.4, 0.3, 0.2, 0.1, 2, 1, -1, 0])\n",
    "    return np.sum(c * [x**i for i in range(c.shape[0])])"
   ]
  },
  {
   "cell_type": "markdown",
   "metadata": {},
   "source": [
    "Аналитическое решение:\n",
    "$\\int_{-1}^{0} (0.4-0.3x+0.2x^2+0.1x^3+2x^4+x^5-x^6) dx = 0.682143$"
   ]
  },
  {
   "cell_type": "code",
   "execution_count": 40,
   "metadata": {},
   "outputs": [],
   "source": [
    "answer_a2 = 0.682143"
   ]
  },
  {
   "cell_type": "code",
   "execution_count": 99,
   "metadata": {},
   "outputs": [],
   "source": [
    "def midpoint_method(f, a, b, h):\n",
    "    return h * (f(a) + f(a+h) + f(b))\n",
    "\n",
    "def midpoint2(f, a, b):\n",
    "    h = (b-a)/4\n",
    "    return h * (f(a) + f(a+h) + f(a+2*h) + f(a+3*h) + f(b))"
   ]
  },
  {
   "cell_type": "code",
   "execution_count": 94,
   "metadata": {},
   "outputs": [],
   "source": [
    "# def midpoint(f, a, b, n):\n",
    "#     h = (b - a) / n\n",
    "#     result = 0\n",
    "#     for i in range(n):\n",
    "#         result += f(a + h * (i + 0.5))\n",
    "#     result *= h\n",
    "#     return result"
   ]
  },
  {
   "cell_type": "code",
   "execution_count": 95,
   "metadata": {},
   "outputs": [],
   "source": [
    "# answer_mid = midpoint(p, a2, b2, 2)\n",
    "# answer_mid2 = midpoint(p, a2, b2, 4)\n",
    "# answer_mid, answer_mid2"
   ]
  },
  {
   "cell_type": "code",
   "execution_count": 100,
   "metadata": {},
   "outputs": [
    {
     "data": {
      "text/plain": [
       "(0.8187500000000001, 0.611328125)"
      ]
     },
     "execution_count": 100,
     "metadata": {},
     "output_type": "execute_result"
    }
   ],
   "source": [
    "answer_m = midpoint_method(p, a2, b2, h)\n",
    "answer_m2 = midpoint2(p, a2, b2)\n",
    "answer_m, answer_m2"
   ]
  },
  {
   "cell_type": "code",
   "execution_count": 93,
   "metadata": {},
   "outputs": [
    {
     "name": "stdout",
     "output_type": "stream",
     "text": [
      "Метод центральных прямоугольников - ответ: 0.8187500000000001 , абсолютная погрешность: 0.13660700000000003\n"
     ]
    }
   ],
   "source": [
    "print ('Метод центральных прямоугольников - ответ:',  answer_m, ', абсолютная погрешность:', abs(answer_m - answer_a2))"
   ]
  },
  {
   "cell_type": "code",
   "execution_count": 102,
   "metadata": {},
   "outputs": [
    {
     "name": "stdout",
     "output_type": "stream",
     "text": [
      "Метод центральных прямоугольников - погрешность по правилу Рунге: 0.06914062500000002\n"
     ]
    }
   ],
   "source": [
    "print ('Метод центральных прямоугольников - погрешность по правилу Рунге:', 1/3 * abs(answer_m2 - answer_m))"
   ]
  },
  {
   "cell_type": "markdown",
   "metadata": {},
   "source": [
    "### Задача 6.6.4\n",
    "##### Условие:\n",
    "\n",
    "Вычислить значение интеграла $I$ из задачи $6.1$, используя квадратурную формулу Гаусса с одним, двумя, тремя, четырьмя узлами. Определить абсолютную погрешность результата. Построить гистограмму зависимости погрешности от числа узлов. Убедиться, что квадратурные формулы Гаусса с $N+1 (N=0,1,2,3)$ узлом точны для многочленов $1, t, ..., t^m$, где $m = 2N + 1$."
   ]
  },
  {
   "cell_type": "code",
   "execution_count": 106,
   "metadata": {},
   "outputs": [],
   "source": [
    "def Gauss(f, a, b, n):\n",
    "    coefs = [[[0,2]], [[-0.577350269189626, 1], [0.577350269189626, 1]], \n",
    "             [[-0.77459666929954, 0.55555555555556], [0, 0.88888888888888], [0.77459666929954, 0.55555555555556]], \n",
    "             [[-0.861136311594052, 0.347854845137454], [-0.339981043584856, 0.652145154862546], \n",
    "              [0.339981043584856, 0.652145154862546], [0.861136311594052, 0.347854845137454]]]\n",
    "    return (b-a)/2*np.sum([cs[1]*f((a+b)/2+(b-a)/2*cs[0]) for cs in coefs[n]])"
   ]
  },
  {
   "cell_type": "code",
   "execution_count": 110,
   "metadata": {},
   "outputs": [
    {
     "data": {
      "image/png": "[encoded data removed]",
      "text/plain": [
       "<Figure size 720x504 with 1 Axes>"
      ]
     },
     "metadata": {
      "needs_background": "light"
     },
     "output_type": "display_data"
    }
   ],
   "source": [
    "import matplotlib.pyplot as plt\n",
    "%matplotlib inline\n",
    "n_grid = np.arange(1, 5, 1)\n",
    "errors = [np.abs(Gauss(p, a, b, i)-answer_a) for i in np.arange(0, 4, 1)]\n",
    "\n",
    "plt.figure(figsize=(10,7))\n",
    "plt.plot(n_grid, errors)\n",
    "plt.scatter(n_grid, errors, c='r', s = 70)\n",
    "plt.xlabel('Число узлов')\n",
    "plt.ylabel('Абсолютная погрешность ответа')\n",
    "plt.yscale('log')"
   ]
  },
  {
   "cell_type": "markdown",
   "metadata": {},
   "source": [
    "Квадратурные формулы точны"
   ]
  },
  {
   "cell_type": "markdown",
   "metadata": {},
   "source": [
    "### Задача 6.8.2\n",
    "##### Условие:\n",
    "\n",
    "Используя указанную в индивидуальном варианте квадратурную формулу, вычислить двойной интеграл $\\int_{a}^{b} \\int_{c}^{d}f(x,y) \\,dx\\,dy$ от функции двух переменных $f(x, y)$ по прямоугольной области $D=\\{(x,y), x \\in [a,b], y \\in [c,d]\\}$ с точностью 0.001."
   ]
  },
  {
   "cell_type": "code",
   "execution_count": 142,
   "metadata": {},
   "outputs": [],
   "source": [
    "a8, b8, c, d = -1, 1, 0, 2\n",
    "\n",
    "def f(x, y):\n",
    "    return (y+np.sin(x))*(y**2*x+1)"
   ]
  },
  {
   "cell_type": "markdown",
   "metadata": {},
   "source": [
    "$\\int_{-1}^{1} \\int_{0}^{2} (y+\\sin(x))(y^2x+1) \\,dx\\,dy = 3.99335$"
   ]
  },
  {
   "cell_type": "code",
   "execution_count": 90,
   "metadata": {},
   "outputs": [],
   "source": [
    "res_a = 3.99335"
   ]
  },
  {
   "cell_type": "code",
   "execution_count": null,
   "metadata": {},
   "outputs": [],
   "source": []
  },
  {
   "cell_type": "code",
   "execution_count": null,
   "metadata": {},
   "outputs": [],
   "source": []
  },
  {
   "cell_type": "code",
   "execution_count": null,
   "metadata": {},
   "outputs": [],
   "source": []
  },
  {
   "cell_type": "markdown",
   "metadata": {},
   "source": [
    "### Задача 6.9.4\n",
    "##### Условие:\n",
    "\n",
    "Для интегрального уравнения $y(x)-\\lambda \\int_{a}^{b} k(x,t) y(t) \\,dt = f(x)$ составить таблицу значений решения с тремя верными значащими цифрами с постоянным шагом $h=(b-a)/10$, используя указанную в индивидуальном варианте квадратурную формулу. Построить график решения."
   ]
  },
  {
   "cell_type": "code",
   "execution_count": 129,
   "metadata": {},
   "outputs": [],
   "source": [
    "def k(x,t):\n",
    "    return (x+t)/(10+t)\n",
    "\n",
    "def f(x):\n",
    "    return 1+2*x\n",
    "\n",
    "lmbd = 0.5\n",
    "a9 = 0\n",
    "b9 = 1\n",
    "n = 10\n",
    "h9 = (b9-a9)/n"
   ]
  },
  {
   "cell_type": "code",
   "execution_count": 136,
   "metadata": {},
   "outputs": [
    {
     "name": "stdout",
     "output_type": "stream",
     "text": [
      "[0.  0.1 0.2 0.3 0.4 0.5 0.6 0.7 0.8 0.9]\n"
     ]
    },
    {
     "data": {
      "text/plain": [
       "array([1.89074938, 2.25930419, 2.627859  , 2.9964138 , 3.36496861,\n",
       "       3.73352342, 4.10207823, 4.47063303, 4.83918784, 5.20774265])"
      ]
     },
     "execution_count": 136,
     "metadata": {},
     "output_type": "execute_result"
    }
   ],
   "source": [
    "x_grid = np.arange(a9, b9, h9)\n",
    "B = np.array([f(x) for x in x_grid])\n",
    "print(x_grid)\n",
    "A = np.array([[-lmbd * k(x_grid[i], x_grid[j]) for j in range(n)] for i in range (n)])\n",
    "A += np.eye(n, n)\n",
    "# A.shape, B.shape\n",
    "y = np.linalg.solve(A, B)\n",
    "y"
   ]
  },
  {
   "cell_type": "code",
   "execution_count": 138,
   "metadata": {},
   "outputs": [
    {
     "data": {
      "image/png": "[encoded data removed]",
      "text/plain": [
       "<Figure size 720x504 with 1 Axes>"
      ]
     },
     "metadata": {
      "needs_background": "light"
     },
     "output_type": "display_data"
    }
   ],
   "source": [
    "plt.figure(figsize=(10,7))\n",
    "plt.plot(x_grid, y)\n",
    "plt.xlabel('x', size=14)\n",
    "plt.ylabel('f(x)', size=14);"
   ]
  }
 ],
 "metadata": {
  "kernelspec": {
   "display_name": "Python 3",
   "language": "python",
   "name": "python3"
  },
  "language_info": {
   "codemirror_mode": {
    "name": "ipython",
    "version": 3
   },
   "file_extension": ".py",
   "mimetype": "text/x-python",
   "name": "python",
   "nbconvert_exporter": "python",
   "pygments_lexer": "ipython3",
   "version": "3.6.6"
  }
 },
 "nbformat": 4,
 "nbformat_minor": 2
}
