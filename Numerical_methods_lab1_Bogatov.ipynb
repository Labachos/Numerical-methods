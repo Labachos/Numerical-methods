{
 "cells": [
  {
   "cell_type": "markdown",
   "metadata": {},
   "source": [
    "## Богатов Антон Юрьевич\n",
    "### Лабораторная работа\n",
    "### Вариант 4\n",
    "### Задания 2.5.1 и 2.10.2"
   ]
  },
  {
   "cell_type": "markdown",
   "metadata": {},
   "source": [
    "### Задача 2.5.1\n",
    "##### Условие:\n",
    "Найти приближенно корень уравнения $f(x) = 0$, принадлежащий отрезку $[a, b]$, с точностью $ε = 10^{-5}$, используя модификацию* метода Ньютона для случая кратного корня при значениях $m = 1,2,3,4,5$. По числу итераций определить кратность корня.\n",
    "\n",
    "$$f(x) = 36\\cos x + 18\\sqrt 3 x + 9x^2 + \\pi ^2 - 18 -6\\sqrt 3 \\pi - 6\\pi x$$ $$[a, b] = [0.8, 1.2]$$\n",
    "\n",
    "##### Модифицированный метод Ньютона для поиска кратных корней: \n",
    "$$x_{n+1} = x_n - m\\frac{f(x_n)}{f'(x_n)} , n = 0,1,.. , m = 1,2,..$$"
   ]
  },
  {
   "cell_type": "code",
   "execution_count": 1,
   "metadata": {},
   "outputs": [],
   "source": [
    "import math\n",
    "import numpy as np\n",
    "\n",
    "# Функция:\n",
    "def eq_sol(x):\n",
    "    f = 36*math.cos(x)+18*math.sqrt(3)*x+9*x**2+math.pi**2-18-6*math.sqrt(3)*math.pi-6*math.pi*x\n",
    "    return f\n",
    "\n",
    "# Производная функции:\n",
    "def eq1_sol(x):\n",
    "    devf = 18*x - 36*math.sin(x) - 6*math.pi + 18*math.sqrt(3)\n",
    "    return devf\n",
    "\n",
    "eps = 10**(-5)\n",
    "m = [1, 2, 3, 4, 5]"
   ]
  },
  {
   "cell_type": "code",
   "execution_count": 2,
   "metadata": {},
   "outputs": [
    {
     "name": "stdout",
     "output_type": "stream",
     "text": [
      "Корень x = 1.047176006904553\n",
      "Для m = 1 количество итераций: 20\n",
      "Корень x = 1.047190767426473\n",
      "Для m = 2 количество итераций: 9\n",
      "Корень x = 1.0471976022750344\n",
      "Для m = 3 количество итераций: 3\n",
      "Корень x = 1.0471930141557466\n",
      "Для m = 4 количество итераций: 9\n",
      "Корень x = 1.0472083129969545\n",
      "Для m = 5 количество итераций: 36\n"
     ]
    }
   ],
   "source": [
    "# Метод Ньютона:\n",
    "def newton(x, m):\n",
    "    x_next = x - m * (eq_sol(x)/eq1_sol(x))\n",
    "    return x_next\n",
    "\n",
    "for elem in m:\n",
    "    x = 1.0\n",
    "    j = 1\n",
    "    x_next = newton(x, elem)\n",
    "    for i in range(1000):\n",
    "        if abs(x_next-x) < eps:\n",
    "            print('Корень x =', x)\n",
    "            break\n",
    "        x = x_next\n",
    "        x_next = newton(x, elem)\n",
    "        j += 1    \n",
    "    print('Для m =', elem, 'количество итераций:', j)"
   ]
  },
  {
   "cell_type": "markdown",
   "metadata": {},
   "source": [
    "По числу итераций видно, что корень имеет кратность 3."
   ]
  },
  {
   "cell_type": "code",
   "execution_count": 3,
   "metadata": {},
   "outputs": [
    {
     "name": "stdout",
     "output_type": "stream",
     "text": [
      "Ответ: x = 1.0472083129969545 , кратности 3.\n"
     ]
    }
   ],
   "source": [
    "print('Ответ: x =', x, ', кратности 3.')"
   ]
  },
  {
   "cell_type": "markdown",
   "metadata": {},
   "source": [
    "### Задача 2.10.2\n",
    "##### Условие:\n",
    "Функция $y = f(x)$ задана неявно уравнением $F(x,y) = 0$. На отрезке $[1, 5]$ построить таблицу значений функции $y = f(x)$ с шагом $h = 0.5$, применяя один из методов численного решения нелинейного уравнения (с точностью $ε = 10^{-7}$). Построить график функции $y=f(x)$ на заданном отрезке.\n",
    "$$ F(x, y) = ch(ye^y + \\frac{x}{20}) + \\frac{1}{arctg(20ye^y + x)} - 13$$ $$ 1≤x≤5 $$ $$ 1≤y≤1.5 $$"
   ]
  },
  {
   "cell_type": "code",
   "execution_count": 16,
   "metadata": {},
   "outputs": [
    {
     "data": {
      "image/png": "[encoded data removed]",
      "text/plain": [
       "<Figure size 432x288 with 1 Axes>"
      ]
     },
     "metadata": {
      "needs_background": "light"
     },
     "output_type": "display_data"
    }
   ],
   "source": [
    "import matplotlib.pyplot as plt\n",
    "%matplotlib inline\n",
    "\n",
    "x = np.linspace(1, 5, 100000)\n",
    "y = np.linspace(1, 1.5, 10000)\n",
    "eps1 = 10**(-7)\n",
    "x_good = []\n",
    "y_good = []\n",
    "\n",
    "# Функция:\n",
    "def func(x, y):\n",
    "    return np.cosh(y*np.exp(y) + x/20) + 1/(np.arctan(20*y*np.exp(y) + x)) - 13\n",
    "\n",
    "# Находим точки, при которых значение близко к нулю, чтобы построить график:\n",
    "for i in y:\n",
    "    for j in x:\n",
    "        if abs(func(j, i)) < eps1:\n",
    "            x_good.append(j)\n",
    "            y_good.append(i)\n",
    "plt.scatter(x_good, y_good);"
   ]
  },
  {
   "cell_type": "code",
   "execution_count": 17,
   "metadata": {},
   "outputs": [
    {
     "data": {
      "image/png": "[encoded data removed]",
      "text/plain": [
       "<Figure size 432x288 with 1 Axes>"
      ]
     },
     "metadata": {
      "needs_background": "light"
     },
     "output_type": "display_data"
    }
   ],
   "source": [
    "# График функции:\n",
    "plt.plot(x_good, y_good);"
   ]
  },
  {
   "cell_type": "code",
   "execution_count": 18,
   "metadata": {},
   "outputs": [
    {
     "data": {
      "text/plain": [
       "673"
      ]
     },
     "execution_count": 18,
     "metadata": {},
     "output_type": "execute_result"
    }
   ],
   "source": [
    "# Убедимся, что можно использовать бисекцию:\n",
    "xa, xb = 1, 5\n",
    "y1_good = []\n",
    "for j in y:\n",
    "    if (np.sign(func(xa,j) * func(xb,j))) < 0:\n",
    "        y1_good.append(j)\n",
    "len(y1_good)"
   ]
  },
  {
   "cell_type": "code",
   "execution_count": 19,
   "metadata": {},
   "outputs": [
    {
     "data": {
      "text/plain": [
       "100000"
      ]
     },
     "execution_count": 19,
     "metadata": {},
     "output_type": "execute_result"
    }
   ],
   "source": [
    "ya, yb = 1, 1.5\n",
    "x1_good = []\n",
    "for j in x:\n",
    "    if np.sign(func(j,ya)) != np.sign(func(j,yb)):\n",
    "        x1_good.append(j)\n",
    "len(x1_good)"
   ]
  },
  {
   "cell_type": "code",
   "execution_count": 20,
   "metadata": {},
   "outputs": [
    {
     "data": {
      "image/png": "[encoded data removed]",
      "text/plain": [
       "<Figure size 432x288 with 1 Axes>"
      ]
     },
     "metadata": {
      "needs_background": "light"
     },
     "output_type": "display_data"
    }
   ],
   "source": [
    "# Решаем бисекцией для у1_good:\n",
    "eps2 = 10**(-7)\n",
    "root = []\n",
    "for y in y1_good:\n",
    "    xa, xb = 1, 5\n",
    "    d = np.abs(xa-xb) #5\n",
    "    for i in range(1000):\n",
    "        x0 = xa + d\n",
    "        if (d < eps) or (np.abs(func(x0,y)) < eps):\n",
    "            root.append(x0)\n",
    "            break;\n",
    "        if np.sign(func(x0,y)) == np.sign(func(xa,y)):\n",
    "            xa = x0\n",
    "        else:\n",
    "            xb = x0\n",
    "        d/=2\n",
    "plt.plot(root, y1_good);"
   ]
  },
  {
   "cell_type": "code",
   "execution_count": 21,
   "metadata": {},
   "outputs": [
    {
     "data": {
      "text/html": [
       "<div>\n",
       "<style scoped>\n",
       "    .dataframe tbody tr th:only-of-type {\n",
       "        vertical-align: middle;\n",
       "    }\n",
       "\n",
       "    .dataframe tbody tr th {\n",
       "        vertical-align: top;\n",
       "    }\n",
       "\n",
       "    .dataframe thead th {\n",
       "        text-align: right;\n",
       "    }\n",
       "</style>\n",
       "<table border=\"1\" class=\"dataframe\">\n",
       "  <thead>\n",
       "    <tr style=\"text-align: right;\">\n",
       "      <th></th>\n",
       "      <th>x</th>\n",
       "      <th>y</th>\n",
       "    </tr>\n",
       "  </thead>\n",
       "  <tbody>\n",
       "    <tr>\n",
       "      <th>0</th>\n",
       "      <td>4.994629</td>\n",
       "      <td>1.042354</td>\n",
       "    </tr>\n",
       "    <tr>\n",
       "      <th>1</th>\n",
       "      <td>4.489044</td>\n",
       "      <td>1.046705</td>\n",
       "    </tr>\n",
       "    <tr>\n",
       "      <th>2</th>\n",
       "      <td>3.986053</td>\n",
       "      <td>1.051005</td>\n",
       "    </tr>\n",
       "    <tr>\n",
       "      <th>3</th>\n",
       "      <td>3.485718</td>\n",
       "      <td>1.055256</td>\n",
       "    </tr>\n",
       "    <tr>\n",
       "      <th>4</th>\n",
       "      <td>2.982239</td>\n",
       "      <td>1.059506</td>\n",
       "    </tr>\n",
       "    <tr>\n",
       "      <th>5</th>\n",
       "      <td>2.481537</td>\n",
       "      <td>1.063706</td>\n",
       "    </tr>\n",
       "    <tr>\n",
       "      <th>6</th>\n",
       "      <td>1.977692</td>\n",
       "      <td>1.067907</td>\n",
       "    </tr>\n",
       "    <tr>\n",
       "      <th>7</th>\n",
       "      <td>1.476776</td>\n",
       "      <td>1.072057</td>\n",
       "    </tr>\n",
       "  </tbody>\n",
       "</table>\n",
       "</div>"
      ],
      "text/plain": [
       "          x         y\n",
       "0  4.994629  1.042354\n",
       "1  4.489044  1.046705\n",
       "2  3.986053  1.051005\n",
       "3  3.485718  1.055256\n",
       "4  2.982239  1.059506\n",
       "5  2.481537  1.063706\n",
       "6  1.977692  1.067907\n",
       "7  1.476776  1.072057"
      ]
     },
     "execution_count": 21,
     "metadata": {},
     "output_type": "execute_result"
    }
   ],
   "source": [
    "# Строим таблицу со значениями с шагом h = 0.5:\n",
    "import pandas as pd\n",
    "h = 0.5\n",
    "root1 = []\n",
    "y2_good = []\n",
    "y2_good.append(y1_good[0])\n",
    "root1.append(root[0])\n",
    "for i in range(len(root)):\n",
    "    if np.abs(root[i] - root1[-1]) >= h:\n",
    "        root1.append(root[i])\n",
    "        y2_good.append(y1_good[i])\n",
    "\n",
    "d = {'x': root1, 'y': y2_good}\n",
    "df = pd.DataFrame(data=d)\n",
    "df"
   ]
  }
 ],
 "metadata": {
  "kernelspec": {
   "display_name": "Python 3",
   "language": "python",
   "name": "python3"
  },
  "language_info": {
   "codemirror_mode": {
    "name": "ipython",
    "version": 3
   },
   "file_extension": ".py",
   "mimetype": "text/x-python",
   "name": "python",
   "nbconvert_exporter": "python",
   "pygments_lexer": "ipython3",
   "version": "3.6.6"
  }
 },
 "nbformat": 4,
 "nbformat_minor": 2
}
